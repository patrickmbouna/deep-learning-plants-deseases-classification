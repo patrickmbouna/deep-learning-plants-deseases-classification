{
  "nbformat": 4,
  "nbformat_minor": 0,
  "metadata": {
    "accelerator": "TPU",
    "colab": {
      "name": "AlexNet_Plant_Disease_Classification (2) (1).ipynb",
      "provenance": [],
      "collapsed_sections": [],
      "include_colab_link": true
    },
    "kernelspec": {
      "display_name": "Python 3",
      "language": "python",
      "name": "python3"
    },
    "language_info": {
      "codemirror_mode": {
        "name": "ipython",
        "version": 3
      },
      "file_extension": ".py",
      "mimetype": "text/x-python",
      "name": "python",
      "nbconvert_exporter": "python",
      "pygments_lexer": "ipython3",
      "version": "3.7.3"
    }
  },
  "cells": [
    {
      "cell_type": "markdown",
      "metadata": {
        "id": "view-in-github",
        "colab_type": "text"
      },
      "source": [
        "<a href=\"https://colab.research.google.com/github/patrickmbouna/deep-learning-plants-deseases-classification/blob/main/AlexNet_Plant_Disease_Classification_(2)_(1).ipynb\" target=\"_parent\"><img src=\"https://colab.research.google.com/assets/colab-badge.svg\" alt=\"Open In Colab\"/></a>"
      ]
    },
    {
      "cell_type": "markdown",
      "metadata": {
        "id": "7BLM6UPLQ_um"
      },
      "source": [
        "# **Plant Disease Classification**\n",
        "\n",
        "---\n",
        "\n",
        "![alt text](https://cdn-images-1.medium.com/max/1200/1*FswlF4lZPQ4kT_gkybacZw.jpeg)\n",
        "\n",
        "\n",
        "# Introduction\n",
        "\n",
        "Getting affected by a disease is very common in plants due to various factors such as fertilizers, cultural practices followed, environmental conditions, etc. These diseases hurt agricultural yield and eventually the economy based on it. \n",
        "\n",
        "Any technique or method to overcome this problem and getting a warning before the plants are infected would aid farmers to efficiently cultivate crops or plants, both qualitatively and quantitatively. Thus, disease detection in plants plays a very important role in agriculture.\n"
      ]
    },
    {
      "cell_type": "markdown",
      "metadata": {
        "id": "y3YjEHM-HQpg"
      },
      "source": [
        "# Download Dataset\n"
      ]
    },
    {
      "cell_type": "markdown",
      "metadata": {
        "id": "I-nTknvLSCIH"
      },
      "source": [
        "First, we download the `PlantVillage` dataset from Google Drive by using the unique `id` it holds and unzip the downloaded **PlantVillage.zip** into the **PlantVillage** dataset folder."
      ]
    },
    {
      "cell_type": "code",
      "metadata": {
        "colab": {
          "base_uri": "https://localhost:8080/"
        },
        "id": "q4MljCl78SnG",
        "outputId": "f54146f3-aecb-49b2-bac9-43ea705eb98d"
      },
      "source": [
        "# Download a file based on its file ID.\n",
        "file_id = '18DbC6Xj4NP-hLzI14WuMaAEyq482vNfn'\n",
        "\n",
        "# Download dataset\n",
        "!gdown https://drive.google.com/uc?id={file_id}\n",
        "\n",
        "# Unzip the downloaded file\n",
        "!unzip -q PlantVillage.zip"
      ],
      "execution_count": null,
      "outputs": [
        {
          "output_type": "stream",
          "text": [
            "Downloading...\n",
            "From: https://drive.google.com/uc?id=18DbC6Xj4NP-hLzI14WuMaAEyq482vNfn\n",
            "To: /content/PlantVillage.zip\n",
            "866MB [00:08, 99.5MB/s]\n"
          ],
          "name": "stdout"
        }
      ]
    },
    {
      "cell_type": "markdown",
      "metadata": {
        "id": "NA5gRqs6y97j"
      },
      "source": [
        "# Import Libraries\n"
      ]
    },
    {
      "cell_type": "markdown",
      "metadata": {
        "id": "VUGtqDPgSmZJ"
      },
      "source": [
        "Importing necessary libraries and modules required to build the classification model."
      ]
    },
    {
      "cell_type": "code",
      "metadata": {
        "id": "AMUpYwh1HpCi",
        "outputId": "9fb3dc0d-040e-45b3-ac4d-c26e45c120b3"
      },
      "source": [
        "import numpy as np\n",
        "import pickle\n",
        "import cv2\n",
        "import os\n",
        "import matplotlib.pyplot as plt\n",
        "from os import listdir\n",
        "from sklearn.preprocessing import LabelBinarizer\n",
        "from keras.models import Sequential\n",
        "from keras.layers.normalization import BatchNormalization\n",
        "from keras.layers.convolutional import Conv2D\n",
        "from keras.layers.convolutional import MaxPooling2D\n",
        "from keras.layers.core import Activation, Flatten, Dropout, Dense\n",
        "from keras import backend as K\n",
        "from keras.preprocessing.image import ImageDataGenerator\n",
        "from keras.optimizers import Adam\n",
        "from keras.preprocessing import image\n",
        "from keras.preprocessing.image import img_to_array\n",
        "from sklearn.preprocessing import MultiLabelBinarizer\n",
        "from sklearn.model_selection import train_test_split"
      ],
      "execution_count": null,
      "outputs": [
        {
          "output_type": "stream",
          "text": [
            "Using TensorFlow backend.\n"
          ],
          "name": "stderr"
        }
      ]
    },
    {
      "cell_type": "code",
      "metadata": {
        "id": "B1JRNVU0S_eq"
      },
      "source": [
        "# Building CNN based on AlexNet Architecture\n",
        "\n",
        "# Importing Keras libraries and packages\n",
        "from keras.models import Sequential\n",
        "from keras.layers import Convolution2D, MaxPooling2D, Flatten, Dense, Dropout\n",
        "from keras.layers.normalization import BatchNormalization\n",
        "from keras import optimizers\n",
        "from keras.preprocessing.image import ImageDataGenerator\n",
        "from keras.callbacks import ModelCheckpoint"
      ],
      "execution_count": null,
      "outputs": []
    },
    {
      "cell_type": "code",
      "metadata": {
        "id": "aFPjNCDiNF4f"
      },
      "source": [
        "import json\n",
        "import time\n",
        "\n",
        "import joblib\n",
        "import keras\n",
        "import tensorflow\n",
        "from keras.engine.saving import load_model\n",
        "from keras.layers.core import Dense, Dropout, Activation, Flatten\n",
        "from keras.layers.convolutional import Conv2D, MaxPooling2D, SeparableConv2D\n",
        "from keras.regularizers import l2\n",
        "from keras.optimizers import SGD, RMSprop\n",
        "from keras.utils import to_categorical\n",
        "from keras.layers.normalization import BatchNormalization\n",
        "from keras.utils.vis_utils import plot_model\n",
        "from keras.layers import Input, GlobalAveragePooling2D, concatenate, AveragePooling2D\n",
        "from keras import models\n",
        "from keras.models import Model\n",
        "from keras_preprocessing.image import ImageDataGenerator\n",
        "import numpy as np\n",
        "from keras import regularizers\n",
        "from keras import backend as K\n",
        "from keras.applications.inception_v3 import InceptionV3\n",
        "import matplotlib.pyplot as plt\n",
        "#from keras.callbacks import tensorboard_v1"
      ],
      "execution_count": null,
      "outputs": []
    },
    {
      "cell_type": "code",
      "metadata": {
        "id": "QNmahsdcHM_D",
        "outputId": "b3ced2a4-2bcc-4f57-f211-30d376b950f6"
      },
      "source": [
        "import tensorflow as tf\n",
        "\n",
        "from tensorflow.keras.preprocessing import image_dataset_from_directory"
      ],
      "execution_count": null,
      "outputs": [
        {
          "output_type": "error",
          "ename": "ImportError",
          "evalue": "cannot import name 'image_dataset_from_directory' from 'tensorflow.keras.preprocessing' (C:\\Users\\aristidemima\\Anaconda3\\lib\\site-packages\\tensorflow_core\\python\\keras\\api\\_v1\\keras\\preprocessing\\__init__.py)",
          "traceback": [
            "\u001b[1;31m---------------------------------------------------------------------------\u001b[0m",
            "\u001b[1;31mImportError\u001b[0m                               Traceback (most recent call last)",
            "\u001b[1;32m<ipython-input-4-b4db5a3780a2>\u001b[0m in \u001b[0;36m<module>\u001b[1;34m\u001b[0m\n\u001b[0;32m      1\u001b[0m \u001b[1;32mimport\u001b[0m \u001b[0mtensorflow\u001b[0m \u001b[1;32mas\u001b[0m \u001b[0mtf\u001b[0m\u001b[1;33m\u001b[0m\u001b[1;33m\u001b[0m\u001b[0m\n\u001b[0;32m      2\u001b[0m \u001b[1;33m\u001b[0m\u001b[0m\n\u001b[1;32m----> 3\u001b[1;33m \u001b[1;32mfrom\u001b[0m \u001b[0mtensorflow\u001b[0m\u001b[1;33m.\u001b[0m\u001b[0mkeras\u001b[0m\u001b[1;33m.\u001b[0m\u001b[0mpreprocessing\u001b[0m \u001b[1;32mimport\u001b[0m \u001b[0mimage_dataset_from_directory\u001b[0m\u001b[1;33m\u001b[0m\u001b[1;33m\u001b[0m\u001b[0m\n\u001b[0m",
            "\u001b[1;31mImportError\u001b[0m: cannot import name 'image_dataset_from_directory' from 'tensorflow.keras.preprocessing' (C:\\Users\\aristidemima\\Anaconda3\\lib\\site-packages\\tensorflow_core\\python\\keras\\api\\_v1\\keras\\preprocessing\\__init__.py)"
          ]
        }
      ]
    },
    {
      "cell_type": "markdown",
      "metadata": {
        "id": "V_Chojawz3jw"
      },
      "source": [
        "# Load Dataset"
      ]
    },
    {
      "cell_type": "markdown",
      "metadata": {
        "id": "OyRk7kzTzOpO"
      },
      "source": [
        "Initializing a few parameters required for the image dataset preprocessing."
      ]
    },
    {
      "cell_type": "code",
      "metadata": {
        "id": "v5eHthEdIBsr"
      },
      "source": [
        "# Dimension of resized image\n",
        "DEFAULT_IMAGE_SIZE = tuple((224, 224))\n",
        "\n",
        "# Number of images used to train the model\n",
        "N_IMAGES = 100\n",
        "\n",
        "# Path to the dataset folder\n",
        "root_dir = './PlantVillage'\n",
        "\n",
        "train_dir = os.path.join(root_dir, 'train')\n",
        "val_dir = os.path.join(root_dir, 'val')"
      ],
      "execution_count": null,
      "outputs": []
    },
    {
      "cell_type": "code",
      "metadata": {
        "colab": {
          "base_uri": "https://localhost:8080/"
        },
        "id": "ljEtGO92TgX7",
        "outputId": "9ce20829-24dd-4a30-c663-cd5c31bd384d"
      },
      "source": [
        "# Initializing the CNN\n",
        "classifier = Sequential()\n",
        "\n",
        "# Convolution Step 1\n",
        "classifier.add(Convolution2D(96, 11, strides = (4, 4), padding = 'valid', input_shape=(224, 224, 3), activation = 'relu'))\n",
        "\n",
        "# Max Pooling Step 1\n",
        "classifier.add(MaxPooling2D(pool_size = (2, 2), strides = (2, 2), padding = 'valid'))\n",
        "classifier.add(BatchNormalization())\n",
        "\n",
        "# Convolution Step 2\n",
        "classifier.add(Convolution2D(256, 11, strides = (1, 1), padding='valid', activation = 'relu'))\n",
        "\n",
        "# Max Pooling Step 2\n",
        "classifier.add(MaxPooling2D(pool_size = (2, 2), strides = (2, 2), padding='valid'))\n",
        "classifier.add(BatchNormalization())\n",
        "\n",
        "# Convolution Step 3\n",
        "classifier.add(Convolution2D(384, 3, strides = (1, 1), padding='valid', activation = 'relu'))\n",
        "classifier.add(BatchNormalization())\n",
        "\n",
        "# Convolution Step 4\n",
        "classifier.add(Convolution2D(384, 3, strides = (1, 1), padding='valid', activation = 'relu'))\n",
        "classifier.add(BatchNormalization())\n",
        "\n",
        "# Convolution Step 5\n",
        "classifier.add(Convolution2D(256, 3, strides=(1,1), padding='valid', activation = 'relu'))\n",
        "\n",
        "# Max Pooling Step 3\n",
        "classifier.add(MaxPooling2D(pool_size = (2, 2), strides = (2, 2), padding = 'valid'))\n",
        "classifier.add(BatchNormalization())\n",
        "\n",
        "# Flattening Step\n",
        "classifier.add(Flatten())\n",
        "\n",
        "# Full Connection Step\n",
        "classifier.add(Dense(units = 4096, activation = 'relu'))\n",
        "classifier.add(Dropout(0.4))\n",
        "classifier.add(BatchNormalization())\n",
        "classifier.add(Dense(units = 4096, activation = 'relu'))\n",
        "classifier.add(Dropout(0.4))\n",
        "classifier.add(BatchNormalization())\n",
        "classifier.add(Dense(units = 1000, activation = 'relu'))\n",
        "classifier.add(Dropout(0.2))\n",
        "classifier.add(BatchNormalization())\n",
        "classifier.add(Dense(units = 39, activation = 'softmax'))\n",
        "classifier.summary()"
      ],
      "execution_count": null,
      "outputs": [
        {
          "output_type": "stream",
          "text": [
            "WARNING:tensorflow:From C:\\Users\\aristidemima\\Anaconda3\\lib\\site-packages\\tensorflow_core\\python\\ops\\resource_variable_ops.py:1630: calling BaseResourceVariable.__init__ (from tensorflow.python.ops.resource_variable_ops) with constraint is deprecated and will be removed in a future version.\n",
            "Instructions for updating:\n",
            "If using Keras pass *_constraint arguments to layers.\n",
            "WARNING:tensorflow:From C:\\Users\\aristidemima\\Anaconda3\\lib\\site-packages\\keras\\backend\\tensorflow_backend.py:4070: The name tf.nn.max_pool is deprecated. Please use tf.nn.max_pool2d instead.\n",
            "\n",
            "Model: \"sequential_1\"\n",
            "_________________________________________________________________\n",
            "Layer (type)                 Output Shape              Param #   \n",
            "=================================================================\n",
            "conv2d_1 (Conv2D)            (None, 54, 54, 96)        34944     \n",
            "_________________________________________________________________\n",
            "max_pooling2d_1 (MaxPooling2 (None, 27, 27, 96)        0         \n",
            "_________________________________________________________________\n",
            "batch_normalization_1 (Batch (None, 27, 27, 96)        384       \n",
            "_________________________________________________________________\n",
            "conv2d_2 (Conv2D)            (None, 17, 17, 256)       2973952   \n",
            "_________________________________________________________________\n",
            "max_pooling2d_2 (MaxPooling2 (None, 8, 8, 256)         0         \n",
            "_________________________________________________________________\n",
            "batch_normalization_2 (Batch (None, 8, 8, 256)         1024      \n",
            "_________________________________________________________________\n",
            "conv2d_3 (Conv2D)            (None, 6, 6, 384)         885120    \n",
            "_________________________________________________________________\n",
            "batch_normalization_3 (Batch (None, 6, 6, 384)         1536      \n",
            "_________________________________________________________________\n",
            "conv2d_4 (Conv2D)            (None, 4, 4, 384)         1327488   \n",
            "_________________________________________________________________\n",
            "batch_normalization_4 (Batch (None, 4, 4, 384)         1536      \n",
            "_________________________________________________________________\n",
            "conv2d_5 (Conv2D)            (None, 2, 2, 256)         884992    \n",
            "_________________________________________________________________\n",
            "max_pooling2d_3 (MaxPooling2 (None, 1, 1, 256)         0         \n",
            "_________________________________________________________________\n",
            "batch_normalization_5 (Batch (None, 1, 1, 256)         1024      \n",
            "_________________________________________________________________\n",
            "flatten_1 (Flatten)          (None, 256)               0         \n",
            "_________________________________________________________________\n",
            "dense_1 (Dense)              (None, 4096)              1052672   \n",
            "_________________________________________________________________\n",
            "dropout_1 (Dropout)          (None, 4096)              0         \n",
            "_________________________________________________________________\n",
            "batch_normalization_6 (Batch (None, 4096)              16384     \n",
            "_________________________________________________________________\n",
            "dense_2 (Dense)              (None, 4096)              16781312  \n",
            "_________________________________________________________________\n",
            "dropout_2 (Dropout)          (None, 4096)              0         \n",
            "_________________________________________________________________\n",
            "batch_normalization_7 (Batch (None, 4096)              16384     \n",
            "_________________________________________________________________\n",
            "dense_3 (Dense)              (None, 1000)              4097000   \n",
            "_________________________________________________________________\n",
            "dropout_3 (Dropout)          (None, 1000)              0         \n",
            "_________________________________________________________________\n",
            "batch_normalization_8 (Batch (None, 1000)              4000      \n",
            "_________________________________________________________________\n",
            "dense_4 (Dense)              (None, 39)                39039     \n",
            "=================================================================\n",
            "Total params: 28,118,791\n",
            "Trainable params: 28,097,655\n",
            "Non-trainable params: 21,136\n",
            "_________________________________________________________________\n"
          ],
          "name": "stdout"
        }
      ]
    },
    {
      "cell_type": "code",
      "metadata": {
        "id": "fzQsQs6fTUGU"
      },
      "source": [
        "# Compiling the CNN\n",
        "# classifier.compile(optimizer='adam',\n",
        "#                    loss='categorical_crossentropy',\n",
        "#                    metrics=['accuracy'])\n",
        "\n",
        "\n",
        "# Compiling the CNN\n",
        "\n",
        "classifier.compile(optimizer=optimizers.SGD(lr=0.001, momentum=0.9, decay=0.005),\n",
        "                   loss='categorical_crossentropy',\n",
        "                   metrics=['accuracy'])\n",
        "\n",
        "\n"
      ],
      "execution_count": null,
      "outputs": []
    },
    {
      "cell_type": "code",
      "metadata": {
        "id": "4VniEgrpT-Zb"
      },
      "source": [
        "\n",
        "# image preprocessing\n",
        "#train_datagen = ImageDataGenerator(rescale=1./255,\n",
        "#                                   shear_range=0.2,\n",
        "#                                   zoom_range=0.2,\n",
        "#                                   width_shift_range=0.2,\n",
        "#                                   height_shift_range=0.2,\n",
        "#                                   rotation_range=40,\n",
        "#                                   horizontal_flip=True,\n",
        "#                                   fill_mode='nearest')\n",
        "\n",
        "#test_datagen = ImageDataGenerator(rescale=1./255)\n",
        "\n",
        "batch_size = 32\n",
        "\n",
        "train_data_dir = train_dir   # directory of training data\n",
        "\n",
        "test_data_dir = val_dir      # directory of test data\n",
        "\n",
        "#training_set = train_datagen.flow_from_directory(train_data_dir,\n",
        "#                                                 target_size=(224, 224),\n",
        "#                                                 batch_size=batch_size,\n",
        "#                                                 class_mode='categorical')\n",
        "\n",
        "#test_set = test_datagen.flow_from_directory(test_data_dir,\n",
        "#                                            target_size=(224, 224),\n",
        "#                                            batch_size=batch_size,\n",
        "#                                            class_mode='categorical')\n",
        "\n",
        "#print(training_set.class_indices)\n",
        "\n"
      ],
      "execution_count": null,
      "outputs": []
    },
    {
      "cell_type": "code",
      "metadata": {
        "id": "s81tULgQMm4g"
      },
      "source": [
        "LEARNING_RATE=0.01\n",
        "MOMENTUM=0.9\n",
        "ALPHA=0.0001\n",
        "BETA=0.75\n",
        "GAMMA=0.1\n",
        "DROPOUT=0.4\n",
        "WEIGHT_DECAY=0.0005\n",
        "LRN2D_NORM=True\n",
        "DATA_FORMAT='channels_last' # Theano:'channels_first' Tensorflow:'channels_last'\n",
        "USE_BN=True\n",
        "\n",
        "IM_WIDTH=224\n",
        "IM_HEIGHT=224\n",
        "EPOCH=200\n",
        "batch_size=32\n",
        "NB_CLASS=39"
      ],
      "execution_count": null,
      "outputs": []
    },
    {
      "cell_type": "code",
      "metadata": {
        "colab": {
          "base_uri": "https://localhost:8080/"
        },
        "id": "F_EDE9y5MHFH",
        "outputId": "a9770ac3-0507-4851-f244-53e857e47e76"
      },
      "source": [
        "datagen = ImageDataGenerator(\n",
        "    rotation_range=30,\n",
        "    width_shift_range=0.2,\n",
        "    height_shift_range=0.2,\n",
        "    shear_range=0.2,\n",
        "    zoom_range=0.2,\n",
        "    horizontal_flip=True,\n",
        "    validation_split=0.3,\n",
        "    rescale=1./255\n",
        ")\n",
        "training_set = datagen.flow_from_directory(\n",
        "  train_data_dir,\n",
        "  target_size=(IM_WIDTH, IM_HEIGHT),\n",
        "  batch_size=batch_size,\n",
        "  class_mode='categorical', subset='training'\n",
        ")\n",
        "#vaild data\n",
        "test_set = datagen.flow_from_directory(\n",
        "  train_data_dir,\n",
        "  target_size=(IM_WIDTH, IM_HEIGHT),\n",
        "  batch_size=batch_size,\n",
        "  class_mode='categorical', subset='validation'\n",
        ")\n",
        "#test data\n",
        "test_datagen = ImageDataGenerator(\n",
        "    rotation_range=30,\n",
        "    width_shift_range=0.2,\n",
        "    height_shift_range=0.2,\n",
        "    shear_range=0.2,\n",
        "    zoom_range=0.2,\n",
        "    horizontal_flip=True,\n",
        "    featurewise_center=True\n",
        ")\n",
        "test_generator = datagen.flow_from_directory(\n",
        "  test_data_dir,\n",
        "  target_size=(IM_WIDTH, IM_HEIGHT),\n",
        "  batch_size=batch_size,\n",
        ")"
      ],
      "execution_count": null,
      "outputs": [
        {
          "output_type": "stream",
          "text": [
            "Found 30827 images belonging to 39 classes.\n",
            "Found 13189 images belonging to 39 classes.\n",
            "Found 11004 images belonging to 39 classes.\n"
          ],
          "name": "stdout"
        }
      ]
    },
    {
      "cell_type": "code",
      "metadata": {
        "colab": {
          "base_uri": "https://localhost:8080/"
        },
        "id": "WXy138awRw9i",
        "outputId": "1c1439d6-02e3-426e-86f5-a5ec67f26e30"
      },
      "source": [
        "print(training_set.class_indices)"
      ],
      "execution_count": null,
      "outputs": [
        {
          "output_type": "stream",
          "text": [
            "{'Apple___Apple_scab': 0, 'Apple___Black_rot': 1, 'Apple___Cedar_apple_rust': 2, 'Apple___healthy': 3, 'Blueberry___healthy': 4, 'Cherry_(including_sour)___Powdery_mildew': 5, 'Cherry_(including_sour)___healthy': 6, 'Corn_(maize)___Cercospora_leaf_spot Gray_leaf_spot': 7, 'Corn_(maize)___Common_rust_': 8, 'Corn_(maize)___Northern_Leaf_Blight': 9, 'Corn_(maize)___healthy': 10, 'Grape___Black_rot': 11, 'Grape___Esca_(Black_Measles)': 12, 'Grape___Leaf_blight_(Isariopsis_Leaf_Spot)': 13, 'Grape___healthy': 14, 'Orange___Haunglongbing_(Citrus_greening)': 15, 'Peach___Bacterial_spot': 16, 'Peach___healthy': 17, 'Pepper,_bell___Bacterial_spot': 18, 'Pepper,_bell___healthy': 19, 'Potato___Early_blight': 20, 'Potato___Late_blight': 21, 'Potato___healthy': 22, 'Raspberry___healthy': 23, 'Soybean___healthy': 24, 'Squash___Powdery_mildew': 25, 'Strawberry___Leaf_scorch': 26, 'Strawberry___healthy': 27, 'Tomato___Bacterial_spot': 28, 'Tomato___Early_blight': 29, 'Tomato___Late_blight': 30, 'Tomato___Leaf_Mold': 31, 'Tomato___Septoria_leaf_spot': 32, 'Tomato___Spider_mites Two-spotted_spider_mite': 33, 'Tomato___Target_Spot': 34, 'Tomato___Tomato_Yellow_Leaf_Curl_Virus': 35, 'Tomato___Tomato_mosaic_virus': 36, 'Tomato___healthy': 37, 'background': 38}\n"
          ],
          "name": "stdout"
        }
      ]
    },
    {
      "cell_type": "code",
      "metadata": {
        "id": "gBNl8e5mE6HR"
      },
      "source": [
        "import tensorflow as tf"
      ],
      "execution_count": null,
      "outputs": []
    },
    {
      "cell_type": "code",
      "metadata": {
        "id": "i_c9Fqzu_rRf"
      },
      "source": [
        "#val_batches = tf.data.experimental.cardinality(test_data_dir)\n",
        "#test_dataset = validation_dataset.take(val_batches // 5)\n",
        "#test_data_dir  = validation_dataset.skip(val_batches // 5)"
      ],
      "execution_count": null,
      "outputs": []
    },
    {
      "cell_type": "code",
      "metadata": {
        "id": "nS3oSKe1_g2C"
      },
      "source": [
        "AUTOTUNE = tf.data.experimental.AUTOTUNE\n",
        "\n",
        "#train_data_dir = train_data_dir.prefetch(buffer_size=AUTOTUNE)\n",
        "#test_data_dir = test_data_dir.prefetch(buffer_size=AUTOTUNE)\n",
        "#test_dataset = test_dataset.prefetch(buffer_size=AUTOTUNE)"
      ],
      "execution_count": null,
      "outputs": []
    },
    {
      "cell_type": "code",
      "metadata": {
        "id": "x4xHlkhzUGwy",
        "scrolled": true,
        "outputId": "d601b807-db9c-4920-b3ee-1aa93a8ae205"
      },
      "source": [
        "# # checkpoint\n",
        "# weightpath = \"weights_1.hdf5\"\n",
        "# checkpoint = ModelCheckpoint(weightpath, monitor='val_acc', verbose=1, save_best_only=True, mode='max')\n",
        "# callbacks_list = [checkpoint]\n",
        "#\n",
        "#\n",
        "# #fitting images to CNN\n",
        "# history = classifier.fit_generator(training_set,\n",
        "#                          steps_per_epoch=training_set.samples//batch_size,\n",
        "#                          validation_data=test_set,\n",
        "#                          epochs=50,\n",
        "#                          validation_steps=test_set.samples//batch_size,\n",
        "#                          callbacks=callbacks_list)\n",
        "\n",
        "\n",
        "#fitting images to CNN\n",
        "history = classifier.fit_generator(training_set,\n",
        "                                   steps_per_epoch=training_set.samples//batch_size,\n",
        "                                   validation_data=test_set,\n",
        "                                   epochs=50,\n",
        "                                   validation_steps=test_set.samples//batch_size)\n",
        "\n"
      ],
      "execution_count": null,
      "outputs": [
        {
          "output_type": "stream",
          "text": [
            "WARNING:tensorflow:From C:\\Users\\aristidemima\\Anaconda3\\lib\\site-packages\\keras\\backend\\tensorflow_backend.py:422: The name tf.global_variables is deprecated. Please use tf.compat.v1.global_variables instead.\n",
            "\n",
            "Epoch 1/50\n",
            "963/963 [==============================] - 1696s 2s/step - loss: 2.9744 - accuracy: 0.2664 - val_loss: 2.4907 - val_accuracy: 0.3490\n",
            "Epoch 2/50\n",
            "963/963 [==============================] - 2753s 3s/step - loss: 2.3523 - accuracy: 0.3855 - val_loss: 2.0708 - val_accuracy: 0.4860\n",
            "Epoch 3/50\n",
            "963/963 [==============================] - 1357s 1s/step - loss: 2.1145 - accuracy: 0.4297 - val_loss: 1.3276 - val_accuracy: 0.5100\n",
            "Epoch 4/50\n",
            "963/963 [==============================] - 882s 916ms/step - loss: 1.9672 - accuracy: 0.4640 - val_loss: 1.3139 - val_accuracy: 0.5456\n",
            "Epoch 5/50\n",
            "963/963 [==============================] - 730s 758ms/step - loss: 1.8911 - accuracy: 0.4800 - val_loss: 1.4509 - val_accuracy: 0.5813\n",
            "Epoch 6/50\n",
            "963/963 [==============================] - 561s 582ms/step - loss: 1.8200 - accuracy: 0.4929 - val_loss: 1.2323 - val_accuracy: 0.5940\n",
            "Epoch 7/50\n",
            "963/963 [==============================] - 905s 939ms/step - loss: 1.7597 - accuracy: 0.5065 - val_loss: 2.1724 - val_accuracy: 0.5988\n",
            "Epoch 8/50\n",
            "963/963 [==============================] - 1015s 1s/step - loss: 1.7141 - accuracy: 0.5155 - val_loss: 1.4274 - val_accuracy: 0.5916\n",
            "Epoch 9/50\n",
            "963/963 [==============================] - 1310s 1s/step - loss: 1.6690 - accuracy: 0.5249 - val_loss: 1.2928 - val_accuracy: 0.5953\n",
            "Epoch 10/50\n",
            "963/963 [==============================] - 1305s 1s/step - loss: 1.6477 - accuracy: 0.5327 - val_loss: 1.3447 - val_accuracy: 0.6166\n",
            "Epoch 11/50\n",
            "963/963 [==============================] - 1321s 1s/step - loss: 1.5937 - accuracy: 0.5435 - val_loss: 1.4693 - val_accuracy: 0.5499\n",
            "Epoch 12/50\n",
            "963/963 [==============================] - 1269s 1s/step - loss: 1.5711 - accuracy: 0.5503 - val_loss: 1.0385 - val_accuracy: 0.5807\n",
            "Epoch 13/50\n",
            "963/963 [==============================] - 1256s 1s/step - loss: 1.5505 - accuracy: 0.5576 - val_loss: 1.3922 - val_accuracy: 0.6502\n",
            "Epoch 14/50\n",
            "963/963 [==============================] - 1295s 1s/step - loss: 1.5279 - accuracy: 0.5604 - val_loss: 1.0491 - val_accuracy: 0.6608\n",
            "Epoch 15/50\n",
            "963/963 [==============================] - 1276s 1s/step - loss: 1.5108 - accuracy: 0.5653 - val_loss: 0.9884 - val_accuracy: 0.6367\n",
            "Epoch 16/50\n",
            "963/963 [==============================] - 1331s 1s/step - loss: 1.4734 - accuracy: 0.5724 - val_loss: 1.1055 - val_accuracy: 0.6419\n",
            "Epoch 17/50\n",
            "963/963 [==============================] - 1381s 1s/step - loss: 1.4546 - accuracy: 0.5787 - val_loss: 1.1680 - val_accuracy: 0.6686\n",
            "Epoch 18/50\n",
            "963/963 [==============================] - 1408s 1s/step - loss: 1.4397 - accuracy: 0.5802 - val_loss: 0.6228 - val_accuracy: 0.6732\n",
            "Epoch 19/50\n",
            "963/963 [==============================] - 700s 727ms/step - loss: 1.4264 - accuracy: 0.5838 - val_loss: 1.0812 - val_accuracy: 0.5972\n",
            "Epoch 20/50\n",
            "963/963 [==============================] - 1506s 2s/step - loss: 1.4214 - accuracy: 0.5888 - val_loss: 0.9541 - val_accuracy: 0.6802\n",
            "Epoch 21/50\n",
            "963/963 [==============================] - 1386s 1s/step - loss: 1.3997 - accuracy: 0.5950 - val_loss: 1.1003 - val_accuracy: 0.6844\n",
            "Epoch 22/50\n",
            "963/963 [==============================] - 1211s 1s/step - loss: 1.3914 - accuracy: 0.5963 - val_loss: 1.1135 - val_accuracy: 0.6702\n",
            "Epoch 23/50\n",
            "963/963 [==============================] - 1475s 2s/step - loss: 1.3748 - accuracy: 0.5988 - val_loss: 1.1358 - val_accuracy: 0.6954\n",
            "Epoch 24/50\n",
            "963/963 [==============================] - 1234s 1s/step - loss: 1.3647 - accuracy: 0.6018 - val_loss: 0.9220 - val_accuracy: 0.6729\n",
            "Epoch 25/50\n",
            "963/963 [==============================] - 1252s 1s/step - loss: 1.3508 - accuracy: 0.6044 - val_loss: 1.0885 - val_accuracy: 0.6948\n",
            "Epoch 26/50\n",
            "963/963 [==============================] - 1287s 1s/step - loss: 1.3267 - accuracy: 0.6147 - val_loss: 1.0846 - val_accuracy: 0.6774\n",
            "Epoch 27/50\n",
            "963/963 [==============================] - 1327s 1s/step - loss: 1.3350 - accuracy: 0.6096 - val_loss: 0.9678 - val_accuracy: 0.6973\n",
            "Epoch 28/50\n",
            "963/963 [==============================] - 1361s 1s/step - loss: 1.3084 - accuracy: 0.6171 - val_loss: 1.2502 - val_accuracy: 0.7034\n",
            "Epoch 29/50\n",
            "963/963 [==============================] - 934s 970ms/step - loss: 1.3197 - accuracy: 0.6124 - val_loss: 0.6857 - val_accuracy: 0.7164\n",
            "Epoch 30/50\n",
            "963/963 [==============================] - 1115s 1s/step - loss: 1.2922 - accuracy: 0.6190 - val_loss: 0.6973 - val_accuracy: 0.7086\n",
            "Epoch 31/50\n",
            "963/963 [==============================] - 1185s 1s/step - loss: 1.2890 - accuracy: 0.6203 - val_loss: 0.7410 - val_accuracy: 0.6959\n",
            "Epoch 32/50\n",
            "963/963 [==============================] - 1201s 1s/step - loss: 1.2861 - accuracy: 0.6224 - val_loss: 1.3954 - val_accuracy: 0.6885\n",
            "Epoch 33/50\n",
            "963/963 [==============================] - 584s 606ms/step - loss: 1.2711 - accuracy: 0.6253 - val_loss: 0.8598 - val_accuracy: 0.6879\n",
            "Epoch 34/50\n",
            "963/963 [==============================] - 558s 580ms/step - loss: 1.2574 - accuracy: 0.6293 - val_loss: 0.7370 - val_accuracy: 0.7175\n",
            "Epoch 35/50\n",
            "963/963 [==============================] - 559s 580ms/step - loss: 1.2540 - accuracy: 0.6325 - val_loss: 1.0750 - val_accuracy: 0.6612\n",
            "Epoch 36/50\n",
            "963/963 [==============================] - 887s 921ms/step - loss: 1.2471 - accuracy: 0.6299 - val_loss: 1.1630 - val_accuracy: 0.7287\n",
            "Epoch 37/50\n",
            "963/963 [==============================] - 566s 588ms/step - loss: 1.2401 - accuracy: 0.6369 - val_loss: 0.8618 - val_accuracy: 0.7264\n",
            "Epoch 38/50\n",
            "963/963 [==============================] - 558s 579ms/step - loss: 1.2420 - accuracy: 0.6327 - val_loss: 1.2250 - val_accuracy: 0.6863\n",
            "Epoch 39/50\n",
            "963/963 [==============================] - 557s 578ms/step - loss: 1.2330 - accuracy: 0.6340 - val_loss: 0.8280 - val_accuracy: 0.7338\n",
            "Epoch 40/50\n",
            "963/963 [==============================] - 557s 578ms/step - loss: 1.2235 - accuracy: 0.6401 - val_loss: 0.8143 - val_accuracy: 0.7109\n",
            "Epoch 41/50\n",
            "963/963 [==============================] - 593s 616ms/step - loss: 1.2087 - accuracy: 0.6424 - val_loss: 0.8882 - val_accuracy: 0.7389\n",
            "Epoch 42/50\n",
            "963/963 [==============================] - 1137s 1s/step - loss: 1.2041 - accuracy: 0.6460 - val_loss: 1.0425 - val_accuracy: 0.7398\n",
            "Epoch 43/50\n",
            "963/963 [==============================] - 766s 796ms/step - loss: 1.2144 - accuracy: 0.6435 - val_loss: 0.8650 - val_accuracy: 0.7155\n",
            "Epoch 44/50\n",
            "963/963 [==============================] - 563s 584ms/step - loss: 1.1986 - accuracy: 0.6429 - val_loss: 1.0569 - val_accuracy: 0.7435\n",
            "Epoch 45/50\n",
            "963/963 [==============================] - 563s 584ms/step - loss: 1.1929 - accuracy: 0.6467 - val_loss: 0.6654 - val_accuracy: 0.7236\n",
            "Epoch 46/50\n",
            "963/963 [==============================] - 829s 861ms/step - loss: 1.2015 - accuracy: 0.6410 - val_loss: 0.7877 - val_accuracy: 0.6973\n",
            "Epoch 47/50\n",
            "963/963 [==============================] - 1286s 1s/step - loss: 1.1746 - accuracy: 0.6499 - val_loss: 1.3426 - val_accuracy: 0.7246\n",
            "Epoch 48/50\n",
            "963/963 [==============================] - 1160s 1s/step - loss: 1.1889 - accuracy: 0.6469 - val_loss: 1.0246 - val_accuracy: 0.7177\n",
            "Epoch 49/50\n",
            "963/963 [==============================] - 1200s 1s/step - loss: 1.1691 - accuracy: 0.6532 - val_loss: 0.7055 - val_accuracy: 0.7262\n",
            "Epoch 50/50\n",
            "963/963 [==============================] - 1081s 1s/step - loss: 1.1733 - accuracy: 0.6518 - val_loss: 1.1218 - val_accuracy: 0.7354\n"
          ],
          "name": "stdout"
        }
      ]
    },
    {
      "cell_type": "code",
      "metadata": {
        "id": "judM07B2UpKC"
      },
      "source": [
        "#saving model\n",
        "filepath=\"model.hdf5\"\n",
        "classifier.save(filepath)"
      ],
      "execution_count": null,
      "outputs": []
    },
    {
      "cell_type": "code",
      "metadata": {
        "id": "8PZzseCNUxMP"
      },
      "source": [
        "\n",
        "loss,acc=classifier.evaluate_generator(test_generator,steps=test_set.n/batch_size)\n"
      ],
      "execution_count": null,
      "outputs": []
    },
    {
      "cell_type": "code",
      "metadata": {
        "id": "CKA_zi6RUyr-",
        "outputId": "894f48bc-b1f0-4866-ac26-faf3c206c882"
      },
      "source": [
        "print('Test result:loss:%f,acc:%f'%(loss,acc))"
      ],
      "execution_count": null,
      "outputs": [
        {
          "output_type": "stream",
          "text": [
            "Test result:loss:1.036845,acc:0.733197\n"
          ],
          "name": "stdout"
        }
      ]
    },
    {
      "cell_type": "markdown",
      "metadata": {
        "id": "75wjEVZ-9Yab"
      },
      "source": [
        "Comparing the accuracy and loss by plotting the graph for training and validation."
      ]
    },
    {
      "cell_type": "code",
      "metadata": {
        "id": "68DC4UqXTH4r",
        "outputId": "f42f36e9-4594-4a3e-fc01-c1160989c531"
      },
      "source": [
        "acc = history.history['accuracy']\n",
        "val_acc = history.history['val_accuracy']\n",
        "loss = history.history['loss']\n",
        "val_loss = history.history['val_loss']\n",
        "epochs = range(1, len(acc) + 1)\n",
        "\n",
        "# Train and validation accuracy\n",
        "plt.plot(epochs, acc, 'b', label='Training accurarcy')\n",
        "plt.plot(epochs, val_acc, 'r', label='Validation accurarcy')\n",
        "plt.title('Training and Validation accurarcy')\n",
        "plt.legend()\n",
        "\n",
        "plt.figure()\n",
        "\n",
        "# Train and validation loss\n",
        "plt.plot(epochs, loss, 'b', label='Training loss')\n",
        "plt.plot(epochs, val_loss, 'r', label='Validation loss')\n",
        "plt.title('Training and Validation loss')\n",
        "plt.legend()\n",
        "plt.show()"
      ],
      "execution_count": null,
      "outputs": [
        {
          "output_type": "display_data",
          "data": {
            "image/png": "[encoded data removed]",
            "text/plain": [
              "<Figure size 432x288 with 1 Axes>"
            ]
          },
          "metadata": {
            "tags": [],
            "needs_background": "light"
          }
        },
        {
          "output_type": "display_data",
          "data": {
            "image/png": "[encoded data removed]",
            "text/plain": [
              "<Figure size 432x288 with 1 Axes>"
            ]
          },
          "metadata": {
            "tags": [],
            "needs_background": "light"
          }
        }
      ]
    },
    {
      "cell_type": "markdown",
      "metadata": {
        "id": "BXO9rDqtNlDN"
      },
      "source": [
        "convert modèle to tensorflow js"
      ]
    },
    {
      "cell_type": "code",
      "metadata": {
        "id": "VsR9sMVsJqTE"
      },
      "source": [
        "!pip install tensorflowjs\n",
        "!tensorflowjs_converter --input_format keras \"model.hdf5\" /content/jj"
      ],
      "execution_count": null,
      "outputs": []
    },
    {
      "cell_type": "code",
      "metadata": {
        "id": "LXISTGerp024"
      },
      "source": [
        "!pip install tensorflowjs\n",
        "!tensorflowjs_converter --input_format keras \"model.hdf5\" /content/jj"
      ],
      "execution_count": null,
      "outputs": []
    },
    {
      "cell_type": "code",
      "metadata": {
        "id": "mVYTPhXYp026"
      },
      "source": [
        ""
      ],
      "execution_count": null,
      "outputs": []
    }
  ]
}